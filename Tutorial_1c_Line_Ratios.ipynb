{
 "cells": [
  {
   "cell_type": "markdown",
   "id": "679d37d6-500b-4b6b-8535-eb51ae4a3614",
   "metadata": {},
   "source": [
    "# Tutorial: Calculating Line Ratio Maps"
   ]
  },
  {
   "cell_type": "markdown",
   "id": "dc1386d5-8f04-4fc7-91f9-f6b547a62f5b",
   "metadata": {},
   "source": [
    "## Introduction\n",
    "When we have observations of two differnt lines, we commonly are interested to look the peak or the integrated line intensity ratio, which captures changes in the underlying gas physical or chemical conditions."
   ]
  },
  {
   "cell_type": "markdown",
   "id": "f96cfefd-2009-4bbc-ad7f-8db0a5fa5607",
   "metadata": {},
   "source": [
    "## Learning Objectives\n",
    "1. Homogenize radio spectral line data cubes.\n",
    "2. Calculte the integrated line intensity maps.\n",
    "3. Calculate the line intensity ratio."
   ]
  },
  {
   "cell_type": "markdown",
   "id": "29798d77-64c2-4d7c-a672-7b20b7f81fdb",
   "metadata": {},
   "source": [
    "## Pre-requisit Knowlegde:\n",
    "* What is a convolution? ($\\rightarrow$ check out [tutorial 1a](https://github.com/Smithsonian/sma-science-tutorials) **_NOTE:_**  to be updated.)\n",
    "* How do we determine a mask and what is the moment-0 map? ($\\rightarrow$ check out [tutorial 1b](https://github.com/Smithsonian/sma-science-tutorials) **_NOTE:_**  to be updated.)"
   ]
  },
  {
   "cell_type": "markdown",
   "id": "2754e03c-2b7d-4a86-a7ea-ce98445490ea",
   "metadata": {},
   "source": [
    "## Step 1: Import Data Cubes & Homogenize"
   ]
  },
  {
   "cell_type": "code",
   "execution_count": null,
   "id": "1413a156-d08f-4118-bc2f-34669818e770",
   "metadata": {},
   "outputs": [],
   "source": [
    "import radio_beam\n",
    "from spectral_cube import SpectralCube\n",
    "from astropy import units as u\n",
    "\n",
    "import scipy.ndimage as nd\n",
    "import numpy as np\n",
    "import matplotlib.pyplot as plt"
   ]
  },
  {
   "cell_type": "code",
   "execution_count": null,
   "id": "4b5335a9-fcb4-4211-8580-23ada6f30059",
   "metadata": {},
   "outputs": [],
   "source": [
    "cube_12co = SpectralCube.read('./data/ngc5194_co21.fits')\n",
    "cube_13co = SpectralCube.read('./data/ngc5194_13co10.fits')\n",
    "\n",
    "print('Beam 12CO2-1: %i as'%(cube_12co.beam.major.to(u.arcsec).value))\n",
    "print('Beam 13CO1-0: %i as'%(cube_13co.beam.major.to(u.arcsec).value))"
   ]
  },
  {
   "cell_type": "markdown",
   "id": "df36c267-bd5c-4734-ae24-60df040e91db",
   "metadata": {},
   "source": [
    "**Convolve to a common beam**\n",
    "\n",
    "We see that the 13CO is at a coarser resolution, therefore, we need to convolve the 12CO2-1 map."
   ]
  },
  {
   "cell_type": "code",
   "execution_count": null,
   "id": "5719ae32-c50e-4313-bd8a-d6d2ccb1c576",
   "metadata": {},
   "outputs": [],
   "source": [
    "cube_12co_convolved = cube_12co.convolve_to(cube_13co.beam)"
   ]
  },
  {
   "cell_type": "markdown",
   "id": "c1422b1a-2bf8-4a28-8397-4e27471d3202",
   "metadata": {},
   "source": [
    "**Reprojection** \n",
    "\n",
    "We need to make sure the cubes are on the same coordinate grid. For this purpose, we regrid the 12CO2-1 to the 13CO1-0 grid (a more detailed tutorial can be found [here](https://github.com/radio-astro-tools/tutorials/blob/master/SpectralCubeReprojectExample.ipynb)):"
   ]
  },
  {
   "cell_type": "code",
   "execution_count": null,
   "id": "18076f35-f675-4bf1-a2e6-cc9020135643",
   "metadata": {},
   "outputs": [],
   "source": [
    "#We have to delete the rest-frame frequency since reprojection is not working properly anymore:\n",
    "cube_12co_conv_reproj = cube_12co_convolved.reproject(cube_13co.header)\n"
   ]
  },
  {
   "cell_type": "markdown",
   "id": "65ab8a40-f285-4a34-b953-91ace1884ec3",
   "metadata": {},
   "source": [
    "**Caution:** The new astropy reprojection function is very sensitive, if the RESTFRQ key is included in the header. Be sure to remove this as otherwise, the reprojection won't work"
   ]
  },
  {
   "cell_type": "markdown",
   "id": "fdf15296-c3c5-40f7-b2b9-c62e2a5c0544",
   "metadata": {},
   "source": [
    "## Step 2: Calculate a signal Mask\n",
    "We have to make sure to integrate over the same signal mask. We use the brighter 12CO(2-1) line to determine the signal mask and then apply it to both line cubes when caclualting the moment-0 maps. We follow here the steps outlined in [tutorial 1b](https://github.com/Smithsonian/sma-science-tutorials):\n",
    "\n",
    "**Comments on certain aspects of the code**:\n",
    "* `low_snr_mask`, `high_snr_mask`: You can define different high and low S/N thresholds than the default 6 and 3.\n",
    "* `low_min_pixels`: Chose here a value corresponding to pixels per beam. If the number of connected pixels is lower, then you know that you are likely only picking up some spurious detection. This number will differ for each observation!"
   ]
  },
  {
   "cell_type": "code",
   "execution_count": null,
   "id": "9c16fce8-1ced-4ad6-b94d-c382cb51149f",
   "metadata": {
    "scrolled": true
   },
   "outputs": [],
   "source": [
    "# calculate the rms\n",
    "mad_std_map = cube_12co_conv_reproj.mad_std(axis=0)\n",
    "mad_std_map = cube_12co_conv_reproj.with_mask(cube_12co_conv_reproj<3*mad_std_map).mad_std(axis=0)\n",
    "\n",
    "# Make a low and high mask\n",
    "low_snr_mask = (cube_12co_conv_reproj > 3 * mad_std_map).include()\n",
    "high_snr_mask = (cube_12co_conv_reproj > 6 * mad_std_map).include()\n",
    "\n",
    "#remove spikes along spectral axis\n",
    "high_snr_mask = high_snr_mask & np.roll(high_snr_mask,1,0)& np.roll(high_snr_mask,-1,0)\n",
    "low_snr_mask = low_snr_mask & np.roll(low_snr_mask,1,0)& np.roll(low_snr_mask,-1,0)\n",
    "\n",
    "\n",
    "\n",
    "structure = np.ones((3, 3, 3), dtype=bool)\n",
    "\n",
    "low_snr_mask_labels, num_labels = nd.label(low_snr_mask,\n",
    "                                           structure=structure)\n",
    "\n",
    "num_pixels_in_high_snr_mask = nd.sum(high_snr_mask,\n",
    "                                     labels=low_snr_mask_labels,\n",
    "                                     index=range(1, num_labels + 1)) # +1 offset for mask labels\n",
    "\n",
    "# Repeat for the high signal mask.\n",
    "num_pixels_in_low_snr_mask = nd.sum(low_snr_mask,\n",
    "                                    labels=low_snr_mask_labels,\n",
    "                                    index=range(1, num_labels + 1)) # +1 offset for mask labels\n",
    "\n",
    "# To preserve the low_snr_mask, we will create a new signal mask where we will remove \n",
    "# regions that do not pass the criteria.\n",
    "signal_mask = low_snr_mask\n",
    "\n",
    "low_min_pixels = 20\n",
    "high_min_pixels = 10\n",
    "\n",
    "for num, (high_pix_num, low_pix_num) in enumerate(zip(num_pixels_in_high_snr_mask, num_pixels_in_low_snr_mask)):\n",
    "    if high_pix_num >= high_min_pixels and low_pix_num >= low_min_pixels:\n",
    "        # This region passes the criteria. Keep it in the mask.\n",
    "        continue\n",
    "\n",
    "    # Remove regions that do not pass the criteria.\n",
    "    # NOTE: enumerate will start with 0, but the mask labels start at 1\n",
    "    # We apply a +1 offset to `num` to account for this.\n",
    "    signal_mask[low_snr_mask_labels == num + 1] = False\n",
    "    \n",
    "signal_mask_labels, num_labels = nd.label(signal_mask,\n",
    "                                          structure=structure)\n",
    "\n",
    "structure = np.ones((3, 3), dtype=bool)\n",
    "\n",
    "# In the spectral dimension, only expand the original pixel along the spectral dimension.\n",
    "# The structure looks like:\n",
    "# [0, 0, 0]\n",
    "# [0, 1, 0]\n",
    "# [0, 0, 0]\n",
    "\n",
    "structure_spec = np.zeros((3, 3), dtype=bool)\n",
    "structure_spec[1, 1] = True\n",
    "\n",
    "# Add 1 spectral element on each side of the spatial structure.\n",
    "# np.dstack stacks the arrays along a new 3rd dimension:\n",
    "structure = np.swapaxes(np.dstack([structure_spec, structure, structure_spec]), 0, 2)\n",
    "\n",
    "# With scipy.ndimage:\n",
    "# import scipy.ndimage as nd\n",
    "\n",
    "signal_mask = nd.binary_dilation(signal_mask, structure=structure, iterations=1)\n"
   ]
  },
  {
   "cell_type": "markdown",
   "id": "fb64bddc-dc15-4d86-ac23-57d9d7b49890",
   "metadata": {},
   "source": [
    "### Step 3: Apply the mask to the cube and calculate the moment maps\n",
    "\n",
    "After we have calculated the mask based on the highest S/N line available to us, we can apply it to both line cubes."
   ]
  },
  {
   "cell_type": "code",
   "execution_count": null,
   "id": "76b7ad9c-bf94-4737-b81f-0a741c8b68b1",
   "metadata": {},
   "outputs": [],
   "source": [
    "masked_cube_12co = cube_12co_conv_reproj.with_mask(signal_mask)\n",
    "masked_cube_13co = cube_13co.with_mask(signal_mask)"
   ]
  },
  {
   "cell_type": "code",
   "execution_count": null,
   "id": "dcce07c2-cd3c-4df0-9d12-6640d39df03d",
   "metadata": {},
   "outputs": [],
   "source": [
    "masked_moment0_12co = masked_cube_12co.moment0()\n",
    "masked_moment0_13co = masked_cube_13co.moment0()"
   ]
  },
  {
   "cell_type": "markdown",
   "id": "c195fadd-67dd-4f00-8c59-bd9918f67d80",
   "metadata": {},
   "source": [
    "Here we plot the ratio as the intensity as $I_{\\rm line\\,1}/I_{\\rm line\\,2}$"
   ]
  },
  {
   "cell_type": "code",
   "execution_count": null,
   "id": "4d63be96-7566-4e8f-8bce-7ac049cfa46b",
   "metadata": {},
   "outputs": [],
   "source": [
    "plt.figure(figsize=(15,5))\n",
    "#-------------------------------------------------------------------------\n",
    "# Plot the 12CO(2-1) intensity\n",
    "ax = plt.subplot(1,3,1,projection=masked_moment0_13co.wcs)\n",
    "im = ax.imshow(masked_moment0_12co.value, origin='lower',  vmin=0,cmap='RdYlBu_r')\n",
    "cbar = plt.colorbar(im, ax=ax, fraction=0.046, pad=0.04)\n",
    "cbar.set_label(f'Integrated Intensity ({masked_moment0_12co.unit})')\n",
    "ax.contour(masked_moment0_12co.value/1000, colors='k', levels=[1,5,10,25,50,80])\n",
    "\n",
    "ax.set_ylabel('Declination')\n",
    "ax.set_xlabel('Right Ascension')\n",
    "ax.set_title(r'The $^{12}$CO moment-0')\n",
    "\n",
    "\n",
    "#-------------------------------------------------------------------------\n",
    "ax = plt.subplot(1,3,2,projection=masked_moment0_13co.wcs)\n",
    "im = ax.imshow(masked_moment0_13co.value, origin='lower',vmin=0,cmap='RdYlBu_r')\n",
    "cbar = plt.colorbar(im, ax=ax, fraction=0.046, pad=0.04)\n",
    "cbar.set_label(f'Integrated Intensity ({masked_moment0_13co.unit})')\n",
    "ax.contour(masked_moment0_12co.value/1000, colors='k', levels=[1,5,10,25,50,80])\n",
    "\n",
    "ax.set_ylabel('Declination')\n",
    "ax.set_xlabel('Right Ascension')\n",
    "ax.set_title(r'The $^{13}$CO moment-0')\n",
    "\n",
    "#-------------------------------------------------------------------------\n",
    "\n",
    "ax = plt.subplot(1,3,3,projection=masked_moment0_13co.wcs)\n",
    "im = ax.imshow(masked_moment0_13co.value/masked_moment0_12co.value, origin='lower', vmax=.2, vmin=0,cmap='RdYlBu_r')\n",
    "cbar = plt.colorbar(im, ax=ax, fraction=0.046, pad=0.04)\n",
    "cbar.set_label(r'Ratio ($R_{13/12}$)')\n",
    "ax.contour(masked_moment0_12co.value/1000, colors='k', levels=[1,5,10,25,50,80])\n",
    "\n",
    "ax.set_ylabel('Declination')\n",
    "ax.set_xlabel('Right Ascension')\n",
    "ax.set_title('The ratio')\n",
    "\n",
    "plt.tight_layout()"
   ]
  },
  {
   "cell_type": "markdown",
   "id": "60a71f27-59f2-4340-ac6e-9d090efd93c8",
   "metadata": {},
   "source": [
    "# Line Ratio Analsyis\n",
    "A common analysis to perform with the line ratio is:\n",
    "* Describe line ratio statistics (mean, standard deviation, ...).\n",
    "* Study trends across the source.\n",
    "\n",
    "In this tutorial, we will illustrate ways to assess the ratio statistics and in particular look how we can describe radial trends, accounting for the galaxy's inclination and position angle"
   ]
  },
  {
   "cell_type": "markdown",
   "id": "5389bf12-6f69-481d-b7ec-d2f72bd472ea",
   "metadata": {},
   "source": [
    "### i) Uncertainty of the Line Ratio Measurement\n",
    "\n",
    "To determine the uncertainty in the ratio, $\\sigma_{\\rm r}$, we can simply propagate the uncertainties of the individual lines, $\\sigma_{\\rm line\\,1}$ and $\\sigma_{\\rm line\\,2}$, as follows:\n",
    "$$\n",
    "\\sigma_{\\rm r} = \\frac{I_{\\rm line\\,1}}{I_{\\rm line\\,2}}\\cdot\\sqrt{\\left(\\frac{\\sigma_{\\rm line\\,1}}{I_{\\rm line\\,1}}\\right)^2+\\left(\\frac{\\sigma_{\\rm line\\,2}}{I_{\\rm line\\,2}}\\right)^2}\n",
    "$$\n",
    "\n",
    "**Determining the integrated line intensity uncertainty:** We have not yet explained, how we determine the uncertainty of the line intensities. As we have the channel rms, we simply find the uncertainty by calculating:\n",
    "$$\n",
    "\\sigma_{\\rm line} = {\\rm rms}\\cdot\\Delta v\\cdot\\sqrt{n_{\\rm chan}}\n",
    "$$\n",
    "where $n_{\\rm chan}$ indicates the number of channels we integrate over.\n"
   ]
  },
  {
   "cell_type": "code",
   "execution_count": null,
   "id": "fd5f6beb-f4e7-46ee-a5bc-95cdfe5b8339",
   "metadata": {},
   "outputs": [],
   "source": [
    "#We get the number of channels we integrate over by summing over the mask along the spectral axis\n",
    "n_chan_cube = np.nansum(signal_mask, axis=0)\n",
    "\n",
    "#following example above, we compute the channel rms for 12CO and 13CO\n",
    "mad_std_map_12co = cube_12co_conv_reproj.mad_std(axis=0)\n",
    "mad_std_map_12co = cube_12co_conv_reproj.with_mask(cube_12co_conv_reproj<3*mad_std_map_12co).mad_std(axis=0)\n",
    "\n",
    "mad_std_map_13co = cube_13co.mad_std(axis=0)\n",
    "mad_std_map_13co = cube_13co.with_mask(cube_13co<3*mad_std_map).mad_std(axis=0)\n",
    "\n",
    "#compute the uncertaitny of the intensity\n",
    "delta_v = cube_12co_conv_reproj.header['CDELT3']\n",
    "unc_ii_12co = mad_std_map_12co.value*delta_v*np.sqrt(n_chan_cube)\n",
    "unc_ii_13co = mad_std_map_13co.value*delta_v*np.sqrt(n_chan_cube)"
   ]
  },
  {
   "cell_type": "markdown",
   "id": "fe56b6c7-55df-4cd6-8153-ec6752c3eb63",
   "metadata": {},
   "source": [
    "**Propagate the Uncertainty to determine the error in line ratio**"
   ]
  },
  {
   "cell_type": "code",
   "execution_count": null,
   "id": "0467d1bf-bf28-48a9-9787-14c1f3f67319",
   "metadata": {},
   "outputs": [],
   "source": [
    "#compute first the term in the square-root\n",
    "term1=unc_ii_13co/masked_moment0_13co.value\n",
    "term2=unc_ii_12co/masked_moment0_12co.value\n",
    "\n",
    "sqrt_term = np.sqrt((term1)**2+(term2)**2)\n",
    "\n",
    "#resulting uncertainty\n",
    "unc_ratio = masked_moment0_13co.value/masked_moment0_12co.value*sqrt_term"
   ]
  },
  {
   "cell_type": "markdown",
   "id": "5ffa7725-a9e3-4b19-b4dd-4c4ee5d17ca1",
   "metadata": {},
   "source": [
    "### ii) Sample-wide Ratio Distribution\n",
    "Here we present the simplest analysis, which consists of illustrating the distribution of ratio values using a histogram"
   ]
  },
  {
   "cell_type": "markdown",
   "id": "fa4c4a4e-5c9b-481c-aff3-da7776899cc5",
   "metadata": {},
   "source": [
    "We want to make sure we only include pixels with significantly detected emission in both ratios"
   ]
  },
  {
   "cell_type": "code",
   "execution_count": null,
   "id": "260fdc38-5fe6-4862-9ea3-a146ec0166c0",
   "metadata": {},
   "outputs": [],
   "source": [
    "#we flatten the ratio, since we are only interested in the 1D distribution\n",
    "\n",
    "#calculate the signal-to-noise ratios\n",
    "snr_12co = masked_moment0_12co.value.flatten()/unc_ii_12co.flatten()\n",
    "snr_13co = masked_moment0_13co.value.flatten()/unc_ii_13co.flatten()\n",
    "\n",
    "#determine pixels that are significant (S/N>3)\n",
    "id_sig = np.where((snr_12co>3) & (snr_13co>3))"
   ]
  },
  {
   "cell_type": "code",
   "execution_count": null,
   "id": "1ee16ff6-d8b2-495e-9785-f68ed12af189",
   "metadata": {},
   "outputs": [],
   "source": [
    "ratio_all = masked_moment0_13co.value.flatten()/masked_moment0_12co.value.flatten()"
   ]
  },
  {
   "cell_type": "code",
   "execution_count": null,
   "id": "93c9fcee-cfbd-4f04-9116-8fa3b75f5446",
   "metadata": {},
   "outputs": [],
   "source": [
    "ax = plt.subplot(1,1,1)\n",
    "\n",
    "#make a pretty histogram layout\n",
    "ax.spines['right'].set_visible(False)\n",
    "ax.spines['top'].set_visible(False)\n",
    "ax.spines['left'].set_visible(False)\n",
    "ax.xaxis.set_ticks_position('bottom')\n",
    "ax.set_yticks([])\n",
    "plt.xlabel(r\"$R_{13/12}$\")\n",
    "\n",
    "#define a range of bins\n",
    "xx = np.linspace(0,.3, 15)\n",
    "\n",
    "#plot the histogram\n",
    "plt.hist(ratio_all, bins=xx, density=True, histtype='step', fill=False, color='k')\n",
    "plt.hist(ratio_all, bins=xx, density=True, alpha=.3)\n",
    "\n",
    "#calculate median and 16th to 84th percentile\n",
    "median = np.nanmedian(ratio_all)\n",
    "up_84th = np.nanpercentile(ratio_all,84)\n",
    "low_16th = np.nanpercentile(ratio_all,16)\n",
    "\n",
    "#show median and percentile range\n",
    "plt.plot([low_16th,up_84th],2*[0.5*ax.get_ylim()[-1]], lw=4, color='k')\n",
    "plt.scatter([median],[0.5*ax.get_ylim()[-1]], edgecolor='k',s=300,zorder=10)\n",
    "\n",
    "print(\"Average Ratio: %.2f+%.2f-%.2f\"%(median,up_84th-median,median-low_16th))"
   ]
  },
  {
   "cell_type": "markdown",
   "id": "fb8ac298-6d5c-4dd7-9b9d-2492c9a849aa",
   "metadata": {},
   "source": [
    "### iii) Radial Trends in the Line Ratio"
   ]
  },
  {
   "cell_type": "markdown",
   "id": "33236b2a-3323-463f-a560-0e6aacad21ff",
   "metadata": {},
   "source": [
    "**Specify the galaxy parameters**\n",
    "\n",
    "(Note that this will be very similar for a disk instead of a galaxy)"
   ]
  },
  {
   "cell_type": "code",
   "execution_count": null,
   "id": "c64dfd99-24e4-44dc-8fd6-677f1a4ec320",
   "metadata": {},
   "outputs": [],
   "source": [
    "#Specify \n",
    "central_coordinates = \"13:29:52.7 47:11:43\" #The coordinates in Ra and Dec\n",
    "inclination = 20                            #in degrees\n",
    "position_angle = 178                        #in degrees\n",
    "distance_mpc = 8.5                          #in Megaparsec"
   ]
  },
  {
   "cell_type": "code",
   "execution_count": null,
   "id": "c26c6238-8f40-47e6-b238-23f79186a515",
   "metadata": {},
   "outputs": [],
   "source": [
    "from astropy.coordinates import SkyCoord, FK5\n",
    "import astropy.units as au\n",
    "\n",
    "# Define the reference coordinate (RA, Dec)\n",
    "ref_coord =SkyCoord(central_coordinates, frame=FK5, unit=(au.hourangle, au.deg))\n",
    "        \n",
    "# Get the shape of the image\n",
    "ny, nx = masked_moment0_12co.shape"
   ]
  },
  {
   "cell_type": "code",
   "execution_count": null,
   "id": "4373bdd4-f40f-4c95-a274-bd5573103434",
   "metadata": {},
   "outputs": [],
   "source": [
    "# Step 1: Create a grid of pixel coordinates\n",
    "y, x = np.mgrid[0:ny, 0:nx]\n",
    "coords = np.column_stack((x.ravel(), y.ravel()))"
   ]
  },
  {
   "cell_type": "code",
   "execution_count": null,
   "id": "836ad1ea-1f83-4404-80dd-156ea5ee54fa",
   "metadata": {},
   "outputs": [],
   "source": [
    "# Step 2:Convert pixel coordinates to sky coordinates\n",
    "sky_coords = masked_moment0_12co.wcs.pixel_to_world(coords[:, 0], coords[:, 1])\n",
    "\n",
    "sep = sky_coords.separation(ref_coord).deg\n",
    "pa = sky_coords.position_angle(ref_coord).deg"
   ]
  },
  {
   "cell_type": "code",
   "execution_count": null,
   "id": "9b745ae1-1c09-4a6e-8aa0-4fcba9669319",
   "metadata": {},
   "outputs": [],
   "source": [
    "# Step 3: Deproject the distances\n",
    "pa_rad = np.deg2rad(pa)\n",
    "inc_rad = np.deg2rad(inclination)\n",
    "\n",
    "x_proj = sep * np.cos(pa_rad - np.deg2rad(position_angle))\n",
    "y_proj = sep * np.sin(pa_rad - np.deg2rad(position_angle)) / np.cos(inc_rad)\n",
    "\n",
    "deprojected_distances = np.sqrt(x_proj**2 + y_proj**2)\n",
    "deprojected_pa = np.arctan2(y_proj, x_proj)"
   ]
  },
  {
   "cell_type": "code",
   "execution_count": null,
   "id": "1cbf6b16-e23d-42df-a191-60144fca9286",
   "metadata": {},
   "outputs": [],
   "source": [
    "# Step 4: Reshape to the original image shape\n",
    "deprojected_distances_map = deprojected_distances.reshape((ny, nx))\n",
    "deprojected_pa_map = np.rad2deg(deprojected_pa).reshape((ny, nx))"
   ]
  },
  {
   "cell_type": "code",
   "execution_count": null,
   "id": "9e0cda0e-023f-4626-8230-97ae7105f51b",
   "metadata": {},
   "outputs": [],
   "source": [
    "# Step 5: Convert the deprojected_distances_map to galactocentric radius in kpc\n",
    "deprojected_distances_kpc = np.deg2rad(deprojected_distances_map)*distance_mpc*1e3"
   ]
  },
  {
   "cell_type": "markdown",
   "id": "343be8e2-14fa-4550-a1c3-bfdee1a426c3",
   "metadata": {},
   "source": [
    "**Make a radial scatter plot as function of galactocentric radius**"
   ]
  },
  {
   "cell_type": "code",
   "execution_count": null,
   "id": "37f3d1fc-d495-469f-aef7-9f938e4e7e4e",
   "metadata": {},
   "outputs": [],
   "source": [
    "plt.figure()\n",
    "ax=plt.subplot(1,1,1)\n",
    "ax.errorbar(deprojected_distances_kpc.flatten()[id_sig],ratio_all[id_sig], fmt='.', color='firebrick',yerr = unc_ratio.flatten()[id_sig], ecolor='k', ms=4, alpha=.4)\n",
    "\n",
    "ax.set_ylabel(r'$^{13}\\rm CO(1-0)/^{12}CO(2-1)$ Intensity Ratio')\n",
    "ax.set_xlabel('Galactocentric Radius [kpc]')\n",
    "\n",
    "ax.set_ylim(0,0.4)"
   ]
  },
  {
   "cell_type": "markdown",
   "id": "26125012-144a-4084-9d28-690a0e52e710",
   "metadata": {},
   "source": [
    "**Note on the result:**\n",
    "\n",
    "We can compare our result here to those in recent literature. For instance, the resolved ratio is presented and stuied across M51 in [den Brok+(2022)](https://ui.adsabs.harvard.edu/abs/2022A%26A...662A..89D/abstract). We find the same ratio ($\\langle R_{13/12}\\rangle=0.12$) as reported in their table 6."
   ]
  },
  {
   "cell_type": "markdown",
   "id": "0f8e214b-15c5-40bb-a3b4-fdfa36eae264",
   "metadata": {},
   "source": [
    "# Remaining challenge:"
   ]
  },
  {
   "cell_type": "markdown",
   "id": "6048b225-161d-4450-ad79-e5ad5b991325",
   "metadata": {},
   "source": [
    "A thing to note is that we are here dealing with a significant oversampling, leading to correlated scatter points. Ideally, we would first resample the data cubes to a coarser grid to minimize the oversampling. \n",
    "\n",
    "An example pipeline that can handle resampling of radio-astronomic data cubes is the [PyStructure code](https://github.com/jdenbrok/PyStructure/tree/main). This code will convolve and regrid input data to a common grid, ensuring minimal oversampling to still ensure Nyquist sampling. "
   ]
  },
  {
   "cell_type": "code",
   "execution_count": null,
   "id": "1cbb98d9-2396-4285-94a7-9153c8a890e6",
   "metadata": {},
   "outputs": [],
   "source": []
  }
 ],
 "metadata": {
  "kernelspec": {
   "display_name": "Python 3 (ipykernel)",
   "language": "python",
   "name": "python3"
  },
  "language_info": {
   "codemirror_mode": {
    "name": "ipython",
    "version": 3
   },
   "file_extension": ".py",
   "mimetype": "text/x-python",
   "name": "python",
   "nbconvert_exporter": "python",
   "pygments_lexer": "ipython3",
   "version": "3.11.9"
  }
 },
 "nbformat": 4,
 "nbformat_minor": 5
}
