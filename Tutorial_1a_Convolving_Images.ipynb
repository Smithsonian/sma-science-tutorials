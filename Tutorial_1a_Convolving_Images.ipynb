{
 "cells": [
  {
   "cell_type": "markdown",
   "id": "30b73c57-23c8-4c8d-bc22-222484041d63",
   "metadata": {},
   "source": [
    "# 2D Convolution Astrophysical Data: A Tutorial"
   ]
  },
  {
   "cell_type": "markdown",
   "id": "f64743b8-c4fa-4dc2-8e88-fd8d80d33899",
   "metadata": {},
   "source": [
    "## Introduction\n",
    "Convolution is a fundamental operation in many areas of science, including astrophysics, where it is mainly used to smooth data. In this tutorial, we will learn how to perform a 2D convolution on astrophysical data using Python and the Astropy library. This tutorial is aimed at undergraduate and graduate students with a background in astrophysics."
   ]
  },
  {
   "cell_type": "markdown",
   "id": "18501281-2d3b-4348-8362-ddd17f1178d8",
   "metadata": {},
   "source": [
    "## Learning Objectives\n",
    "1. Understand the principles of 2D (spatial) convolution.\n",
    "2. Learn how to determine and construct a convolution kernel.\n",
    "3. Apply convolution to astrophysical data using ``Astropy`` and ``SpectralCube``"
   ]
  },
  {
   "cell_type": "markdown",
   "id": "7696008a-688c-4d10-b762-217c3c71b4d7",
   "metadata": {},
   "source": [
    "## Background on 2D Convolution"
   ]
  },
  {
   "cell_type": "markdown",
   "id": "8383d154-ff66-45cc-b45e-f64cf4d9f6e5",
   "metadata": {},
   "source": [
    "### What is Convolution?\n",
    "Convolution is a mathematical operation that combines two functions in a specific way. In the context of image processing, one function is the image, and the other is the kernel (or filter). The kernel is a small 2D matrix that is applied to the image to produce a smoothed or otherwise transformed version of the original image."
   ]
  },
  {
   "cell_type": "markdown",
   "id": "4470430b-f47a-4db8-b855-ecfc8a442717",
   "metadata": {},
   "source": [
    "Mathematically, a (discrete) 2D convolution can be expressed as:\n",
    "$$\n",
    "(f * g)(x,y) := \\sum_m\\sum_n f\\left(m,n\\right)\\cdot g\\left(x-m,y-n\\right)\n",
    "$$\n",
    "in this framework, we have:\n",
    "* $f$ the original image (with pixel coordinates $x$ and $y$)\n",
    "* $g$ the kernel matrix\n",
    "*  $*$ the convolution operation"
   ]
  },
  {
   "cell_type": "markdown",
   "id": "cf92f323-b991-4383-aa09-f4daa0e80e6f",
   "metadata": {},
   "source": [
    "### How to chose the convolution kernel $g$\n",
    "\n",
    "A convolution kernel is a small matrix used to apply effects such as blurring, sharpening, or edge detection to an image. In this tutorial, and generally in the context of astrophysical image homogenization, we'll focus on a smoothing kernel, specifically a Gaussian kernel, which is commonly used to reduce noise and detail in an image. "
   ]
  },
  {
   "cell_type": "markdown",
   "id": "1b5a1b97-0df1-4630-9b3a-8e8bb8f4d632",
   "metadata": {},
   "source": [
    "A 2D Gaussian kernel is defined by the Gaussian function:\n",
    "$$\n",
    "G(x,y)=\\frac{1}{2\\pi \\sigma^2}\\cdot \\exp{\\left(⁡−\\frac{x^2+y^2}{\\sigma^2}\\right)}\n",
    "$$\n",
    "Where $\\sigma$ is the standard deviation of the Gaussian distribution. **The challenge in constructing such a kernel is determining the right value for $\\sigma$, which depends on the input image and the targeted resolution you want to smooth your map to.** \n",
    "\n",
    "There exist also more sophisticated 2D kernels that take into acount also second order effects of the point-spread-function. A more detailed explanation and list of such kernels can be found [here](https://www.astro.princeton.edu/~draine/Kernels.html)."
   ]
  },
  {
   "cell_type": "markdown",
   "id": "6f859d8a-bdf3-4d5b-94bd-b27c0adec3d1",
   "metadata": {},
   "source": [
    "## Step 1: Download example data\n",
    "\n",
    "For illustration purposes, we first download a example image."
   ]
  },
  {
   "cell_type": "code",
   "execution_count": null,
   "id": "76b140c9-b217-4a9c-a6e2-fb6da4870e15",
   "metadata": {},
   "outputs": [],
   "source": [
    "import numpy as np\n",
    "import matplotlib.pyplot as plt\n",
    "from astropy.io import fits\n",
    "from astropy.convolution import convolve, convolve_fft, Gaussian2DKernel\n",
    "from astropy.utils.data import download_file\n",
    "from astropy.wcs import WCS, utils\n",
    "from astropy.visualization.wcsaxes import add_beam, add_scalebar\n",
    "from astropy import units as u\n",
    "\n",
    "\n",
    "# Load the sample data\n",
    "image_file = download_file('http://data.astropy.org/tutorials/FITS-images/HorseHead.fits', cache=True )\n",
    "hdu = fits.open(image_file)[0]\n",
    "image_data = hdu.data\n",
    "\n",
    "# Display the original image\n",
    "plt.figure(figsize=(5, 5))\n",
    "plt.imshow(image_data, cmap='gray', origin='lower')\n",
    "plt.title('Original Image')\n",
    "plt.tight_layout()\n",
    "plt.show()"
   ]
  },
  {
   "cell_type": "markdown",
   "id": "5fe0e325-740e-4b1c-ac06-8d1568241eed",
   "metadata": {},
   "source": [
    "## Step 2: Generate the Gaussian 2D kernel\n",
    "\n",
    "We can use the `Gaussian2DKernel` to generate a kernel. We will see later how we can determine the right value for the width of the kernel (the `sigma`)."
   ]
  },
  {
   "cell_type": "code",
   "execution_count": null,
   "id": "89f1f85b-9e81-4fac-a73f-d1d12fb6f284",
   "metadata": {},
   "outputs": [],
   "source": [
    "# Define the standard deviation (sigma) of the Gaussian\n",
    "\n",
    "# Create the Gaussian kernel\n",
    "# We define here the width of the gaussian kernel\n",
    "sigmas = [1,5,20]\n",
    "\n",
    "# we store the kernels in a dictionary to access them later \n",
    "gaussian_kernels={}\n",
    "# Display the kernel\n",
    "plt.figure(figsize=(12, 4))\n",
    "\n",
    "for i, sigma in enumerate(sigmas):\n",
    "    ax = plt.subplot(1,3,i+1)\n",
    "    gaussian_kernel = Gaussian2DKernel(x_stddev=sigma)\n",
    "    gaussian_kernels[str(sigma)]=gaussian_kernel\n",
    "    plt.imshow(gaussian_kernel.array, cmap='viridis', origin='lower')\n",
    "    plt.title(r'Gaussian Kernel $\\sigma = $'+str(int(sigma)))\n",
    "\n",
    "plt.tight_layout()\n",
    "plt.show()"
   ]
  },
  {
   "cell_type": "markdown",
   "id": "f385a543-d24b-4534-ba37-3d782ccbfcc0",
   "metadata": {},
   "source": [
    "## Step 3: Apply the Convolution using the build-in astropy function\n",
    "\n",
    "We can apply the convolution (smoothing) of the data using the `astropy.convolve` function. This function treats `nan`s differently than the `scipy.convolve` function in the sense that it can interpolate between points. \n",
    "\n",
    "**Note:** For larger images, instead of `convolve`, one could also use the faster `convolve_fft` function: \n",
    "\n",
    "```smoothed_image = convolve_fft(image_data, gaussian_kernel)```"
   ]
  },
  {
   "cell_type": "code",
   "execution_count": null,
   "id": "ebe1529a-ac65-45f8-8cfd-7f6a9b8f466a",
   "metadata": {},
   "outputs": [],
   "source": [
    "plt.figure(figsize=(12, 4))\n",
    "\n",
    "ax = plt.subplot(1,4,1)\n",
    "plt.imshow(image_data, cmap='gray', origin='lower')\n",
    "plt.title('Original Image')\n",
    "ax.set_yticks([])\n",
    "ax.set_xticks([])\n",
    "for i, sigma in enumerate(sigmas):\n",
    "    ax = plt.subplot(1,4,i+2)\n",
    "    gaussian_kernel = gaussian_kernels[str(sigma)]\n",
    "    smoothed_image = convolve(image_data, gaussian_kernel)\n",
    "    plt.imshow(smoothed_image, cmap='gray', origin='lower')\n",
    "    plt.title(r'Convolved ($\\sigma = $'+str(int(sigma))+')')\n",
    "    ax.set_yticks([])\n",
    "    ax.set_xticks([])\n",
    "\n",
    "plt.tight_layout()"
   ]
  },
  {
   "cell_type": "markdown",
   "id": "627cc756-83dd-4d3b-8151-5c883e6662b3",
   "metadata": {},
   "source": [
    "## Conlcuding remark\n",
    "This concludes the process of convolution. If we are working with a 3D datacube, then we apply the convolution to each channel (i.e. we iterate over the spectral axis) and construct the final, spatially convolved data cube in this way."
   ]
  },
  {
   "cell_type": "markdown",
   "id": "cdf3f3c1-1caa-4d35-9b63-b9f3b2626ea8",
   "metadata": {},
   "source": [
    "# Calculating the correct value for kernel width"
   ]
  },
  {
   "cell_type": "markdown",
   "id": "390fa770-1aea-4cf9-beaf-36625b57475a",
   "metadata": {},
   "source": [
    "In astronomy, a common challenge we encounter when we want to convolve a dataset from a given angular resolution, $\\theta_{\\rm input}$, to a desired resolution, $\\theta_{\\rm target}$, is determining the width of the Gaussian kernel, $\\theta_{\\rm kernel}$. To determine the width, we simply can calculate:\n",
    "$$\n",
    "\\theta_{\\rm kernel} = \\sqrt{\\theta_{\\rm target}^2-\\theta_{\\rm input}^2}\n",
    "$$\n",
    "\n",
    "**Note:** Here, we assume, as simplification, that the beam of the observations is symmetric (i.e. circular). When working with interferommetric data, the beam often is rather described by a rotated ellipse rather than a circle (see [radio-beam.readthedocs.io](radio-beam.readthedocs.io))."
   ]
  },
  {
   "cell_type": "markdown",
   "id": "e528781f-ff84-4d10-96f8-551fd2ff3dd0",
   "metadata": {},
   "source": [
    "## Illustrating the Challenge"
   ]
  },
  {
   "cell_type": "markdown",
   "id": "5822f92c-9552-49a6-b3e0-02a583f6f485",
   "metadata": {},
   "source": [
    "We work here with IRAM 30m CO(2-1) data of the nearby grand-design spiral galaxy M51. The challenge is that the native angular resolution of the observations is at ${\\sim}13''$. We have additional date at 33\" resolution to which we wish to compare our CO(2-1) observations, so we need to convolve the IRAM 30m data to the required resolution (see illustration below)"
   ]
  },
  {
   "cell_type": "code",
   "execution_count": null,
   "id": "880b369c-0bf2-437f-9448-425500b00b69",
   "metadata": {},
   "outputs": [],
   "source": [
    "plt.figure(figsize=(10,5))\n",
    "props = dict(boxstyle='round', facecolor='w', alpha=0.95)\n",
    "\n",
    "hdu = fits.open('./data/ngc5194_co21_tpeak.fits')[0]\n",
    "wcs = WCS(hdu.header)\n",
    "\n",
    "ax = plt.subplot(1,2,1,projection=wcs)\n",
    "plt.imshow(hdu.data,  origin='lower', cmap='inferno')\n",
    "ax.set_xlabel('R.A. (J2000)')\n",
    "ax.set_ylabel('Decl. (J2000)')\n",
    "\n",
    "# place a text box in upper left in axes coords\n",
    "ax.text(0.05, 0.95, 'M51 - CO(2-1) Peak Intensity', transform=ax.transAxes, fontsize=18,\n",
    "        verticalalignment='top', bbox=props)\n",
    "\n",
    "ax.text(0.95, 0.05, r'$\\theta_{\\rm input} =$'+'%.1f'%(hdu.header['BMAJ']*3600)+r'$^{\\prime \\prime}$', transform=ax.transAxes, fontsize=18,\n",
    "        verticalalignment='bottom', ha='right', bbox=props)\n",
    "\n",
    "#illustrate the beam\n",
    "add_beam(ax, major=hdu.header['BMAJ']*u.deg, minor=hdu.header['BMIN']*u.deg, angle=hdu.header['BPA']*u.deg, frame=True, color='k')\n",
    "\n",
    "\n",
    "\n",
    "\n",
    "hdu = fits.open('./data/ngc5194_co21_tpeak_33as.fits')[0]\n",
    "wcs = WCS(hdu.header)\n",
    "\n",
    "ax = plt.subplot(1,2,2,projection=wcs)\n",
    "plt.imshow(hdu.data,  origin='lower', cmap='inferno')\n",
    "ax.set_xlabel('R.A. (J2000)')\n",
    "ax.text(0.95, 0.05, r'$\\theta_{\\rm target} =$'+'%.1f'%(hdu.header['BMAJ']*3600)+r'$^{\\prime \\prime}$', transform=ax.transAxes, fontsize=18,\n",
    "        verticalalignment='bottom', ha='right', bbox=props)\n",
    "#illustrate the beam\n",
    "add_beam(ax, major=hdu.header['BMAJ']*u.deg, minor=hdu.header['BMIN']*u.deg, angle=hdu.header['BPA']*u.deg, frame=True, color='k')\n",
    "\n",
    "\n",
    "lon = ax.coords[0]\n",
    "lat = ax.coords[1]\n",
    "lat.set_ticklabel_visible(False)\n",
    "plt.tight_layout()\n"
   ]
  },
  {
   "cell_type": "markdown",
   "id": "f6d8971f-3f4a-43a3-8212-b221c1f82bac",
   "metadata": {},
   "source": [
    "## Step 1: Calculating the desired 2D gaussian width "
   ]
  },
  {
   "cell_type": "code",
   "execution_count": null,
   "id": "b2501d73-aae2-480f-b3bc-3361d7683e88",
   "metadata": {},
   "outputs": [],
   "source": [
    "hdu = fits.open('./data/ngc5194_co21_tpeak.fits')[0]\n",
    "\n",
    "#the beam major and minor axes are generallly defined in degrees, therefore, we convert to arcseconds:\n",
    "theta_input = hdu.header['BMAJ']*3600 # in arcsec\n",
    "theta_target = 33 # in arcsec\n",
    "\n",
    "theta_kernel_arcsec = np.sqrt(theta_target**2-theta_input**2)\n",
    "\n",
    "#Note: check if this is a reasonable number. If not, then your hdu.header['BMAJ'] might not have been defined in units of degree. \n",
    "print('theta_kernel = %.2f arcsec'%theta_kernel_arcsec)"
   ]
  },
  {
   "cell_type": "markdown",
   "id": "3450c78f-86de-4ce5-85c3-0649981d30fd",
   "metadata": {},
   "source": [
    "**Note** This value here corresponds to the FWHM of the beam in arcsec, we need to convert this value to a Gaussian width, and we need to convert in terms of pixels (using the pixel width of the input image)"
   ]
  },
  {
   "cell_type": "code",
   "execution_count": null,
   "id": "13652f61-f20c-4952-96c2-9e922bbdc8ce",
   "metadata": {},
   "outputs": [],
   "source": [
    "#This again assumes that the pixel dimensions are provided in degrees, which is usually the standard.\n",
    "pixel_scale = utils.proj_plane_pixel_scales(wcs)*u.deg\n",
    "pixel_width_arcsec = pixel_scale[0].to(u.arcsec).value\n",
    "\n",
    "fwhm2sigma = 2*np.sqrt(2*np.log(2))\n",
    "sigma_kernel = (theta_kernel_arcsec/pixel_width_arcsec)/fwhm2sigma\n",
    "\n",
    "print('sigma_kernel = %.2f pixel'%sigma_kernel)"
   ]
  },
  {
   "cell_type": "markdown",
   "id": "991a3b4c-6c09-488c-8d22-34970f999415",
   "metadata": {},
   "source": [
    "## Step 2: Applying the convolution"
   ]
  },
  {
   "cell_type": "code",
   "execution_count": null,
   "id": "5d7aa1fe-aa7e-4669-8853-e123bad6a4af",
   "metadata": {},
   "outputs": [],
   "source": [
    "#step 2.1: Compute the 2D kernel\n",
    "gaussian_kernel = Gaussian2DKernel(x_stddev=sigma_kernel)"
   ]
  },
  {
   "cell_type": "code",
   "execution_count": null,
   "id": "62e091c4-0638-4315-949e-6373378ca350",
   "metadata": {},
   "outputs": [],
   "source": [
    "#step 2.2: Compute the convolution with the kernel from the previous step\n",
    "smoothed_image = convolve(hdu.data, gaussian_kernel, normalize_kernel=True,)"
   ]
  },
  {
   "cell_type": "markdown",
   "id": "a3d5b367-f0b1-4600-a655-9e33ccc7d20b",
   "metadata": {},
   "source": [
    "## Illustrating the Convolved Image:"
   ]
  },
  {
   "cell_type": "code",
   "execution_count": null,
   "id": "40679264-c852-429a-bc95-f4701c2bd399",
   "metadata": {},
   "outputs": [],
   "source": [
    "plt.figure(figsize=(10,5))\n",
    "props = dict(boxstyle='round', facecolor='w', alpha=0.95)\n",
    "\n",
    "wcs = WCS(hdu.header)\n",
    "\n",
    "ax = plt.subplot(1,2,1,projection=wcs)\n",
    "plt.imshow(hdu.data,  origin='lower', cmap='inferno')\n",
    "ax.set_xlabel('R.A. (J2000)')\n",
    "ax.set_ylabel('Decl. (J2000)')\n",
    "\n",
    "# place a text box in upper left in axes coords\n",
    "ax.text(0.05, 0.95, 'M51 - CO(2-1) Peak Intensity', transform=ax.transAxes, fontsize=18,\n",
    "        verticalalignment='top', bbox=props)\n",
    "\n",
    "ax.text(0.95, 0.05, r'$\\theta_{\\rm input} =$'+'%.1f'%(hdu.header['BMAJ']*3600)+r'$^{\\prime \\prime}$', transform=ax.transAxes, fontsize=18,\n",
    "        verticalalignment='bottom', ha='right', bbox=props)\n",
    "#illustrate the beam\n",
    "add_beam(ax, major=hdu.header['BMAJ']*u.deg, minor=hdu.header['BMIN']*u.deg, angle=hdu.header['BPA']*u.deg, frame=True, color='k')\n",
    "\n",
    "\n",
    "ax = plt.subplot(1,2,2,projection=wcs)\n",
    "plt.imshow(smoothed_image,  origin='lower', cmap='inferno')\n",
    "ax.set_xlabel('R.A. (J2000)')\n",
    "ax.text(0.95, 0.05, r'$\\theta_{\\rm target} =$'+'%.1f'%(theta_target)+r'$^{\\prime \\prime}$', transform=ax.transAxes, fontsize=18,\n",
    "        verticalalignment='bottom', ha='right', bbox=props)\n",
    "ax.text(0.05, 0.95, '(convolved image)', transform=ax.transAxes, fontsize=18,\n",
    "        verticalalignment='top', bbox=props)\n",
    "#illustrate the beam\n",
    "add_beam(ax, major=theta_target*u.arcsec, minor=theta_target*u.arcsec, angle=0, frame=True, color='k')\n",
    "\n",
    "\n",
    "lon = ax.coords[0]\n",
    "lat = ax.coords[1]\n",
    "lat.set_ticklabel_visible(False)\n",
    "plt.tight_layout()\n"
   ]
  },
  {
   "cell_type": "markdown",
   "id": "2d22ba5b-b44c-4eda-8316-a76e1ae7972b",
   "metadata": {},
   "source": [
    "# Convolving 3D data cubes with `spectralcube`"
   ]
  },
  {
   "cell_type": "markdown",
   "id": "2f2382b5-9c26-4be3-8c4a-59b6c36c714d",
   "metadata": {},
   "source": [
    "In particular when dealing with 3D data cubes, instead of constructing a for-loop that iterates and convolves the individual channels, it is far easier to use the built in functionalities of the `spectralcube` package. The description of the smoothing process is described [here](https://spectral-cube.readthedocs.io/en/latest/smoothing.html). The following provides a quick  overview of how to set up the convolution to a user-defined resolution."
   ]
  },
  {
   "cell_type": "code",
   "execution_count": null,
   "id": "244810d3-6f2e-425d-b18e-756787233164",
   "metadata": {},
   "outputs": [],
   "source": [
    "import radio_beam\n",
    "from spectral_cube import SpectralCube\n",
    "from astropy import units as u"
   ]
  },
  {
   "cell_type": "markdown",
   "id": "d820bf65-436a-4354-bea7-8cdbb9771844",
   "metadata": {},
   "source": [
    "We again will work with the M51 CO(2-1) data observed with the IRAM 30m telescope (this time the actual cube)"
   ]
  },
  {
   "cell_type": "markdown",
   "id": "5a1db422-7f28-4e3a-ba50-8ca8caa9c3b0",
   "metadata": {},
   "source": [
    "### Step 1: Load in the Data with spectral cube"
   ]
  },
  {
   "cell_type": "code",
   "execution_count": null,
   "id": "adebf5c1-91d2-4994-adad-1673b41d7a5d",
   "metadata": {},
   "outputs": [],
   "source": [
    "cube = SpectralCube.read('./data/ngc5194_co21.fits')"
   ]
  },
  {
   "cell_type": "markdown",
   "id": "2215df5f-d20a-4354-a671-106665c73c4b",
   "metadata": {},
   "source": [
    "### Step 2: define the target resolution"
   ]
  },
  {
   "cell_type": "code",
   "execution_count": null,
   "id": "8177c426-81a7-4c6d-bbc6-fe7093bfebf4",
   "metadata": {},
   "outputs": [],
   "source": [
    "#in our case, we want to convolve to 33 arcsec\n",
    "# since we define a circular beam, we only need to provide the major axes\n",
    "beam = radio_beam.Beam(major=33*u.arcsec)"
   ]
  },
  {
   "cell_type": "markdown",
   "id": "1bdc312f-ac75-40df-90ad-18aece374ed1",
   "metadata": {},
   "source": [
    "### Step 3: Use the built-in convolution function"
   ]
  },
  {
   "cell_type": "markdown",
   "id": "7e4b3272-58af-436b-93fe-9f887e902c9a",
   "metadata": {},
   "source": [
    "**Note:** For large (>1GB) cubes, you might need to pass the following line first:\n",
    "\n",
    "```cube.allow_huge_operations = True```"
   ]
  },
  {
   "cell_type": "code",
   "execution_count": null,
   "id": "019696a7-5d99-4b71-a639-d14836862eee",
   "metadata": {},
   "outputs": [],
   "source": [
    "new_cube = cube.convolve_to(beam)"
   ]
  },
  {
   "cell_type": "markdown",
   "id": "3514a1e4-4217-497d-8544-ef61c1817eef",
   "metadata": {},
   "source": [
    "### Concluding remarks:\n",
    "* The `new_cube` is a 3D data cube that now contains the smoothed data. You can save this to the disk using `new_cube.write('m51_co21_33as.fits')`\n",
    "* If you have two cubes and you want to convolve one to the other angular resolution, you can also use the spectralcube the following way:"
   ]
  },
  {
   "cell_type": "code",
   "execution_count": null,
   "id": "2c918405-22c5-4852-a7d4-4aa0daf66e5b",
   "metadata": {},
   "outputs": [],
   "source": [
    "# cube_lowres = SpectralCube.read(...)\n",
    "# cube_highres = SpectralCube.read(...)\n",
    "\n",
    "# common_beam = cube_lowres.beams.common_beam()\n",
    "# cube_highres_convolved = cube_highres.convolve_to(common_beam)"
   ]
  },
  {
   "cell_type": "markdown",
   "id": "6f8bb95e-00c0-4979-9d79-2b7d9ef149ea",
   "metadata": {},
   "source": [
    "**Using spectraCube for 2D convolution**\n",
    "\n",
    "The following example showcases how you can use Spectral Cube to convolve also 2D data:"
   ]
  },
  {
   "cell_type": "code",
   "execution_count": null,
   "id": "7ca3d2d4-17cf-4b05-8b6e-d84e95f27cc0",
   "metadata": {},
   "outputs": [],
   "source": [
    "from spectral_cube import Projection\n",
    "from astropy.io import fits\n",
    "from radio_beam import Beam\n",
    "import astropy.units as u\n",
    "\n",
    "img = Projection.from_hdu(fits.open('./data/ngc5194_co21_tpeak.fits'))\n",
    "targ_beam = Beam(33*u.arcsec)\n",
    "conv_img = img.convolve_to(targ_beam)"
   ]
  },
  {
   "cell_type": "code",
   "execution_count": null,
   "id": "5863f3f2-f1e8-4bfd-926a-7b3fbb6c1011",
   "metadata": {},
   "outputs": [],
   "source": []
  }
 ],
 "metadata": {
  "kernelspec": {
   "display_name": "Python 3 (ipykernel)",
   "language": "python",
   "name": "python3"
  },
  "language_info": {
   "codemirror_mode": {
    "name": "ipython",
    "version": 3
   },
   "file_extension": ".py",
   "mimetype": "text/x-python",
   "name": "python",
   "nbconvert_exporter": "python",
   "pygments_lexer": "ipython3",
   "version": "3.11.9"
  }
 },
 "nbformat": 4,
 "nbformat_minor": 5
}
