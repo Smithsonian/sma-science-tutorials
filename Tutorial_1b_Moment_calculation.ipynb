{
 "cells": [
  {
   "cell_type": "markdown",
   "id": "f00e0d77-d945-4c73-8848-8587da8b057a",
   "metadata": {},
   "source": [
    "# Calculating the Moment 0 Map"
   ]
  },
  {
   "cell_type": "markdown",
   "id": "48ae7be1-3d11-492c-9978-41de0f2f5816",
   "metadata": {},
   "source": [
    "## Introduction\n",
    "Computing the line intensity (moment-0) based on a 3D data cube is a fundamental operation. In this tutorial, we will learn how to generate a 3D mask and then integrate the cube along the spectral axis to obtain a robust moment-0 measurement. This tutorial is aimed at undergraduate and graduate students with a background in astrophysics."
   ]
  },
  {
   "cell_type": "markdown",
   "id": "2dd5f8ae-3e37-465f-87a7-6e7bccc6367a",
   "metadata": {},
   "source": [
    "## Learning Objectives\n",
    "1. Determine the noise of a 3D data cube.\n",
    "2. Learn how to define a signal mask indicating where signal is detected.\n",
    "3. Calculate the moment-0 mask using a signal mask"
   ]
  },
  {
   "cell_type": "markdown",
   "id": "dac92b5c-34bd-4a0c-958a-006ec045f7d0",
   "metadata": {},
   "source": [
    "## Background:\n",
    "### The line emission profile ###\n",
    "\n",
    "In astronomy, we commonly find line emission profiles, that we can describe by a single Gaussian-shaped spectrum (or a combination thereof) that has the following functional form:\n",
    "$$\n",
    "S(v) = A \\exp\\left[-\\frac{(v-v_0)^2}{2\\sigma_v^2}\\right],\n",
    "$$\n",
    "In this formula, $A$ describes the *amplitude*, $v_0$ the *centroid velocity* of the line profile, and $\\sigma_v$ the *line width*."
   ]
  },
  {
   "cell_type": "code",
   "execution_count": null,
   "id": "7eda3985-7ac8-4d01-bcbb-f92b36097edb",
   "metadata": {},
   "outputs": [],
   "source": [
    "import matplotlib.pyplot as plt\n",
    "import numpy as np\n",
    "from scipy import ndimage"
   ]
  },
  {
   "cell_type": "markdown",
   "id": "fc28c80f-3c5f-46c5-9408-fff1cfe7f9ec",
   "metadata": {},
   "source": [
    "**Define generic spectrum**"
   ]
  },
  {
   "cell_type": "code",
   "execution_count": null,
   "id": "57e7715c-5fcb-44c5-a65e-44bc0d361f17",
   "metadata": {},
   "outputs": [],
   "source": [
    "#define Gaussian profile\n",
    "A = 1\n",
    "v0 = 0\n",
    "sigma_v = 1\n",
    "\n",
    "#Define axis\n",
    "x_axis=np.linspace(-20,20,200)\n",
    "delta_v = abs(x_axis[1]-x_axis[0])\n",
    "\n",
    "#spec: The ideal spectrum\n",
    "spec = A*np.exp(-(x_axis-v0)**2/sigma_v**2)\n",
    "\n",
    "# spec_noise: Add noise from normal distribution\n",
    "sigma_noise = 0.1\n",
    "spec_noise = spec +np.random.normal(0,sigma_noise, len(x_axis))\n",
    "\n",
    "# spec_noise_realistic: For real-life detectors, the sensitivity generally decreases towards channels \n",
    "# at the edge, thereby increasing the noise. Here we try to immitate that by adding noise of increasing\n",
    "# magnitude towards either side of the spectrum.\n",
    "spec_noise_realistic = spec_noise + np.random.normal(0, abs(x_axis/20)**3)"
   ]
  },
  {
   "cell_type": "code",
   "execution_count": null,
   "id": "371821df-b099-49f8-8478-c8b2993504a7",
   "metadata": {},
   "outputs": [],
   "source": [
    "plt.figure(figsize=(9,3))\n",
    "ax = plt.subplot(1,3,1)\n",
    "ax.step(x_axis, spec)\n",
    "ax.set_ylim(-1,2)\n",
    "ax.axhline(0, zorder=0, color='k', alpha=.5)\n",
    "ax.set_title('Gaussian')\n",
    "\n",
    "ax = plt.subplot(1,3,2)\n",
    "ax.step(x_axis, spec_noise)\n",
    "ax.set_ylim(-1,2)\n",
    "ax.set_yticklabels([])\n",
    "ax.axhline(0, zorder=0, color='k', alpha=.5)\n",
    "ax.set_title('Gaussian + noise')\n",
    "\n",
    "ax = plt.subplot(1,3,3)\n",
    "ax.step(x_axis, spec_noise_realistic)\n",
    "ax.set_ylim(-1,2)\n",
    "ax.set_yticklabels([])\n",
    "ax.axhline(0, zorder=0, color='k', alpha=.5)\n",
    "ax.set_title('Gaussian + \"realistic\" noise')\n",
    "plt.tight_layout()"
   ]
  },
  {
   "cell_type": "markdown",
   "id": "e86b0548-724c-48ca-bab8-373956449711",
   "metadata": {},
   "source": [
    "### Integrated Intensity -- Moment 0\n",
    "\n",
    "The most common product is the integrated intensity, or the zeroth moment. This is defined as the integral of $S(v)$, or equivalently the sum over the signal in the observed spectrum:\n",
    "$$\n",
    "M_0 = \\int_{\\mathrm{line}} T(v)\\,dv \\approx \\sum_{i\\in\\{\\mathrm{line}\\}} T(v_i)\\,\\delta v,\n",
    "$$\n",
    "where $\\delta v$ is the channel width in the cube. To improve the S/N, we define a mask that includes channels where we expect line emission (here defined as $\\{\\mathrm{line}\\}$) and only sum over these.\n",
    "\n",
    "The integrated intensity units is commonly K km/s. However, for this example, we work with arbitrary units.\n"
   ]
  },
  {
   "cell_type": "markdown",
   "id": "3a7539fc-89f9-4dc2-b434-472954d46317",
   "metadata": {},
   "source": [
    "### Simplest Calculation: Integrating over the whole spectrum\n",
    "\n",
    "Integrating over the entire spectrum is the easiest way to determine the moment-0. However, since we integrate over the noise, the resulting S/N might be lower."
   ]
  },
  {
   "cell_type": "code",
   "execution_count": null,
   "id": "007f0331-2d95-4d16-95f3-39fc2050b8af",
   "metadata": {},
   "outputs": [],
   "source": [
    "moment_0_spec = np.nansum(spec)*delta_v\n",
    "moment_0_spec_noise = np.nansum(spec_noise)*delta_v\n",
    "moment_0_spec_noise_real = np.nansum(spec_noise_realistic)*delta_v\n",
    "\n",
    "print('Moment-0 ideal spectrum:\\t\\t %.3f [a.u]'%moment_0_spec )\n",
    "print('Moment-0 simple noise spectrum:\\t\\t %.3f [a.u]'%moment_0_spec_noise )\n",
    "print('Moment-0 realistic noise spectrum:\\t %.3f [a.u]'%moment_0_spec_noise_real )"
   ]
  },
  {
   "cell_type": "markdown",
   "id": "48abacb4-9687-48f0-8c4d-1c2fa07b4203",
   "metadata": {},
   "source": [
    "**We see that the integrated intensities vary by 10-20\\% in the case of large noise. Therefore, defining a mask will make the measurements less sensitive to the noise:**"
   ]
  },
  {
   "cell_type": "markdown",
   "id": "469171ab-223e-4276-ba7a-25af19ea0310",
   "metadata": {},
   "source": [
    "### Defining a 1D Mask\n",
    "\n",
    "The mask determination consists of the following steps:\n",
    "\n",
    "i) Determine the channel noise (rms)\n",
    "\n",
    "ii) Determine the channels (in 3D the voxels) who's values is above the noise.\n",
    "\n",
    "iii) Improve the mask by removing spurious false positives."
   ]
  },
  {
   "cell_type": "markdown",
   "id": "9d46a57e-ee3b-4dc3-9c07-9ffa08119ae0",
   "metadata": {},
   "source": [
    "**Step 1:** Determine the rms\n",
    "\n",
    "* First we calculate the standard deviation (using the mean absolute deviation, which is more robust to outliers). This will overestimate the noise, since the presence of a line will bias the rms towards larger values.\n",
    "* We perform a clipping and calculate the rms again. This ensures that the majority of the line emission is not included anymore."
   ]
  },
  {
   "cell_type": "code",
   "execution_count": null,
   "id": "7d368880-fc97-40fd-b001-61e472879841",
   "metadata": {},
   "outputs": [],
   "source": [
    "from astropy.stats import mad_std\n",
    "\n",
    "\n",
    "rms_spec = mad_std(spec_noise)\n",
    "rms_spec = mad_std(spec_noise[spec_noise<3*rms_spec])\n",
    "\n",
    "rms_spec_realnoise = mad_std(spec_noise_realistic)\n",
    "rms_spec_realnoise = mad_std(spec_noise_realistic[spec_noise_realistic<3*rms_spec_realnoise])"
   ]
  },
  {
   "cell_type": "markdown",
   "id": "fa6ee431-a991-43a5-b2d7-cdfa7125bdb6",
   "metadata": {},
   "source": [
    "**Comment:** Here we illustrate the procdure for the scenario if we only have one spectrum. However, if you work with numerous spectra (for instance with a 3D data cube), you could calculate the std per channel or group of channels to come up with a noise spectrum. See more details below."
   ]
  },
  {
   "cell_type": "markdown",
   "id": "1ee59bad-8bb6-49e0-b4fa-6a32cf7e32be",
   "metadata": {},
   "source": [
    "**Plot the spectra and show the calculated rms:**"
   ]
  },
  {
   "cell_type": "code",
   "execution_count": null,
   "id": "d60c11ca-3ed1-4523-9b3f-234313b47285",
   "metadata": {},
   "outputs": [],
   "source": [
    "plt.figure(figsize=(9,3))\n",
    "ax = plt.subplot(1,3,1)\n",
    "ax.step(x_axis, spec)\n",
    "ax.set_ylim(-1,2)\n",
    "ax.axhline(0, zorder=0, color='k', alpha=.5)\n",
    "ax.set_title('Gaussian')\n",
    "\n",
    "ax = plt.subplot(1,3,2)\n",
    "ax.step(x_axis, spec_noise)\n",
    "ax.set_ylim(-1,2)\n",
    "ax.set_yticklabels([])\n",
    "ax.axhline(0, zorder=0, color='k', alpha=.5)\n",
    "ax.set_title('Gaussian + noise')\n",
    "ax.axhline(rms_spec, color='r', ls=':', label=r'1$\\sigma$')\n",
    "ax.axhline(3*rms_spec, color='r', label=r'3$\\sigma$')\n",
    "ax.legend()\n",
    "\n",
    "ax = plt.subplot(1,3,3)\n",
    "ax.step(x_axis, spec_noise_realistic)\n",
    "ax.set_ylim(-1,2)\n",
    "ax.set_yticklabels([])\n",
    "ax.axhline(0, zorder=0, color='k', alpha=.5)\n",
    "ax.set_title('Gaussian + \"realistic\" noise')\n",
    "ax.axhline(rms_spec_realnoise, color='r', ls=':', label=r'1$\\sigma$')\n",
    "ax.axhline(3*rms_spec_realnoise, color='r', label=r'3$\\sigma$')\n",
    "ax.legend()\n",
    "\n",
    "plt.tight_layout()"
   ]
  },
  {
   "cell_type": "markdown",
   "id": "f0564e45-9897-4a54-b5cf-b6a64765eed9",
   "metadata": {},
   "source": [
    "**Step 2: Defining a mask**\n",
    "\n",
    "* We define a high and a low mask at different S/N thresholds\n",
    "* The high mask (S/N>4) ensures that only real emission is included\n",
    "* The low mask ensures (S/N>2), that we do not clip away too much emission.\n",
    "* We then take the high mask and expand it into the low mask"
   ]
  },
  {
   "cell_type": "code",
   "execution_count": null,
   "id": "4bd37aa8-6429-475b-bc18-763b37bad1c1",
   "metadata": {},
   "outputs": [],
   "source": [
    "high_tresh = 4\n",
    "low_tresh = 2\n",
    "\n",
    "mask = np.array(spec_noise > high_tresh * rms_spec, dtype = int)\n",
    "low_mask = np.array(spec_noise > low_tresh * rms_spec, dtype = int)\n",
    "\n",
    "mask_realistic = np.array(spec_noise_realistic > high_tresh * rms_spec_realnoise, dtype = int)\n",
    "low_mask_realistic = np.array(spec_noise_realistic > low_tresh * rms_spec_realnoise, dtype = int)"
   ]
  },
  {
   "cell_type": "markdown",
   "id": "87a335d2-04b8-4440-bbf0-0233562ce941",
   "metadata": {},
   "source": [
    "**remove spikes** \n",
    "\n",
    "We want to make sure that single spikes above the threshold are not included in our mask. For this, we shift the spectra to the left and right and check if the overlap still is significant per channel (which would indicate that at least three consecutive channels are significantly detected."
   ]
  },
  {
   "cell_type": "code",
   "execution_count": null,
   "id": "c589a626-8681-4663-b24f-230ae6d579c6",
   "metadata": {},
   "outputs": [],
   "source": [
    "#remove spikes along spectral axis:\n",
    "mask = np.array((mask + np.roll(mask, 1) + np.roll(mask, -1))>=3, dtype = int)\n",
    "low_mask = np.array((low_mask + np.roll(low_mask, 1) + np.roll(low_mask, -1))>=3, dtype = int)\n",
    "\n",
    "mask_realistic = np.array((mask_realistic + np.roll(mask_realistic, 1) + np.roll(mask_realistic, -1))>=3, dtype = int)\n",
    "low_mask_realistic = np.array((low_mask_realistic + np.roll(low_mask_realistic, 1) + np.roll(low_mask_realistic, -1))>=3, dtype = int)"
   ]
  },
  {
   "cell_type": "markdown",
   "id": "4605d644-86f8-4982-8e37-10bf00c18110",
   "metadata": {},
   "source": [
    "**Expand channel-wise the high mask into the low mask**"
   ]
  },
  {
   "cell_type": "code",
   "execution_count": null,
   "id": "c745ea06-3ec7-487f-a881-4d02cd751144",
   "metadata": {},
   "outputs": [],
   "source": [
    "n_chan=0\n",
    "while n_chan!=np.nansum(mask):\n",
    "    n_chan = np.nansum(mask)\n",
    "    mask = ndimage.binary_dilation(mask).astype(mask.dtype)*low_mask\n",
    "\n",
    "n_chan=0\n",
    "while n_chan!=np.nansum(mask_realistic):\n",
    "    n_chan = np.nansum(mask_realistic)\n",
    "    mask_realistic = ndimage.binary_dilation(mask_realistic).astype(mask.dtype)*low_mask_realistic\n",
    "\n",
    "# Further expand the mask a few channels to include the wings\n",
    "#expand to cover part of edge of the emission line\n",
    "# adjust n_iter such that you see no missing wings of the spectrum (see plotting below)\n",
    "n_iter=6\n",
    "mask = ndimage.binary_dilation(mask, iterations=n_iter).astype(mask.dtype)\n",
    "mask_realistic = ndimage.binary_dilation(mask_realistic, iterations=n_iter).astype(mask.dtype)"
   ]
  },
  {
   "cell_type": "code",
   "execution_count": null,
   "id": "d966f555-f0a8-4533-a95a-72fce75ba031",
   "metadata": {},
   "outputs": [],
   "source": [
    "plt.figure(figsize=(9,3))\n",
    "ax = plt.subplot(1,3,1)\n",
    "ax.step(x_axis, spec)\n",
    "ax.set_ylim(-1,2)\n",
    "ax.axhline(0, zorder=0, color='k', alpha=.5)\n",
    "ax.set_title('Gaussian')\n",
    "\n",
    "ax = plt.subplot(1,3,2)\n",
    "ax.step(x_axis, spec_noise)\n",
    "ax.step(x_axis[mask==1], spec_noise[mask==1])\n",
    "ax.set_ylim(-1,2)\n",
    "ax.set_yticklabels([])\n",
    "ax.axhline(0, zorder=0, color='k', alpha=.5)\n",
    "ax.set_title('Gaussian + noise')\n",
    "ax.axhline(rms_spec, color='r', ls=':', label=r'1$\\sigma$')\n",
    "ax.axhline(3*rms_spec, color='r', label=r'3$\\sigma$')\n",
    "ax.legend()\n",
    "\n",
    "ax = plt.subplot(1,3,3)\n",
    "ax.step(x_axis, spec_noise_realistic)\n",
    "ax.step(x_axis[mask_realistic==1], spec_noise_realistic[mask_realistic==1])\n",
    "ax.set_ylim(-1,2)\n",
    "ax.set_yticklabels([])\n",
    "ax.axhline(0, zorder=0, color='k', alpha=.5)\n",
    "ax.set_title('Gaussian + \"realistic\" noise')\n",
    "ax.axhline(rms_spec_realnoise, color='r', ls=':', label=r'1$\\sigma$')\n",
    "ax.axhline(3*rms_spec_realnoise, color='r', label=r'3$\\sigma$')\n",
    "ax.legend()\n",
    "\n",
    "plt.tight_layout()"
   ]
  },
  {
   "cell_type": "markdown",
   "id": "288ef7d8-8d0b-4ad4-aa50-5e361a30e036",
   "metadata": {},
   "source": [
    "The orange part of the spectrum shows the significantly detected channels, that we include in the end for the moment-0 calculation. Note that even for the \"realistic noise\" example, we pick up only the real line emission."
   ]
  },
  {
   "cell_type": "markdown",
   "id": "6242b2b7-c8a5-4d11-aaa5-911fa1308884",
   "metadata": {},
   "source": [
    "**Step 3: Integrate over the masked channels only**"
   ]
  },
  {
   "cell_type": "code",
   "execution_count": null,
   "id": "66876b82-e002-4d2a-8be7-5fc65ebb3006",
   "metadata": {},
   "outputs": [],
   "source": [
    "moment_0_spec = np.nansum(spec)*delta_v\n",
    "moment_0_spec_noise = np.nansum(spec_noise*mask)*delta_v\n",
    "moment_0_spec_noise_real = np.nansum(spec_noise_realistic*mask_realistic)*delta_v\n",
    "\n",
    "print('Moment-0 ideal spectrum:\\t\\t %.3f [a.u]'%moment_0_spec )\n",
    "print('Moment-0 simple noise spectrum:\\t\\t %.3f [a.u]'%moment_0_spec_noise )\n",
    "print('Moment-0 realistic noise spectrum:\\t %.3f [a.u]'%moment_0_spec_noise_real )"
   ]
  },
  {
   "cell_type": "markdown",
   "id": "11bd80a1-769e-470d-bfd2-8debd557c43b",
   "metadata": {},
   "source": [
    "The moment-0 values, in particular for the realistic noise example, do now agree more with the expected value"
   ]
  },
  {
   "cell_type": "markdown",
   "id": "35b2a4ba-fd60-4ceb-ab68-bb68c6a103f8",
   "metadata": {},
   "source": [
    "## Application to a 3D data cube\n",
    "\n",
    "Here we build on the [radio-astro-tools tutorial](https://github.com/radio-astro-tools/tutorials/blob/master/masking_and_moments/masking_and_moments_guide.ipynb). "
   ]
  },
  {
   "cell_type": "markdown",
   "id": "0bef0b14-406a-43fd-857c-763ef39f5f93",
   "metadata": {},
   "source": [
    "**Step 1: Import the data cube**"
   ]
  },
  {
   "cell_type": "code",
   "execution_count": null,
   "id": "b73c99ee-c22e-4593-8f82-64f1ab54b339",
   "metadata": {},
   "outputs": [],
   "source": [
    "from spectral_cube import SpectralCube\n",
    "import astropy.units as u\n",
    "\n",
    "filename = './data/ngc5194_co21.fits'\n",
    "cube = SpectralCube.read(filename, format='fits')\n",
    "\n",
    "# Convert to km/s for the spectral unit\n",
    "cube = cube.with_spectral_unit(u.km / u.s)"
   ]
  },
  {
   "cell_type": "markdown",
   "id": "db8ed54a-f632-40f5-a1d8-95af8bf734c6",
   "metadata": {},
   "source": [
    "**Step 2: Calculate the rms**"
   ]
  },
  {
   "cell_type": "code",
   "execution_count": null,
   "id": "b48beacc-c0d2-4ec8-ad6e-fbdf5b83b950",
   "metadata": {},
   "outputs": [],
   "source": [
    "mad_std_map = cube.mad_std(axis=0)\n",
    "mad_std_map = cube.with_mask(cube<3*mad_std_map).mad_std(axis=0)"
   ]
  },
  {
   "cell_type": "code",
   "execution_count": null,
   "id": "fe4fa426-c1d6-4121-be49-3262f280afce",
   "metadata": {},
   "outputs": [],
   "source": [
    "# Make a low and high mask\n",
    "low_snr_mask = (cube > 2 * mad_std_map).include()\n",
    "high_snr_mask = (cube > 4 * mad_std_map).include()\n",
    "\n",
    "#remove spikes along spectral axis\n",
    "high_snr_mask = high_snr_mask & np.roll(high_snr_mask,1,0)& np.roll(high_snr_mask,-1,0)\n",
    "low_snr_mask = low_snr_mask & np.roll(low_snr_mask,1,0)& np.roll(low_snr_mask,-1,0)"
   ]
  },
  {
   "cell_type": "markdown",
   "id": "563528dc-1de1-4356-9f43-c97c6f2f94c7",
   "metadata": {},
   "source": [
    "**Step 3: Remove spatially spurious detections**\n",
    "Note that this was not necessary for the 1D example, however, now in 3D, we remove spikes by making sure that in 2D, connected regions are larger than a given size.\n",
    "\n",
    "We will label connected regions in `low_snr_mask` and label them. `low_snr_mask` and `high_snr_mask` are both dask arrays. We define regions as connected as 26-connected, meaning all edge and corner connections are included in 3D. The equivalent in 2D is 8-connected and would have a structure element like:\n",
    "\n",
    "```\n",
    "[1, 1, 1]\n",
    "[1, 1, 1]\n",
    "[1, 1, 1]\n",
    "```"
   ]
  },
  {
   "cell_type": "code",
   "execution_count": null,
   "id": "1d5d55eb-199f-4c5c-ba7b-74649db1ffe1",
   "metadata": {},
   "outputs": [],
   "source": [
    "import scipy.ndimage as nd\n",
    "\n",
    "structure = np.ones((3, 3, 3), dtype=bool)\n",
    "\n",
    "low_snr_mask_labels, num_labels = nd.label(low_snr_mask,\n",
    "                                           structure=structure)\n",
    "\n",
    "print(f\"Initial number of regions found: {num_labels}\")\n",
    "\n"
   ]
  },
  {
   "cell_type": "markdown",
   "id": "7d27f2d6-b5ed-400a-b6e8-e1f1070cf808",
   "metadata": {},
   "source": [
    "To remove spurious regions, we will apply 2 criteria:\n",
    "\n",
    "1. All regions in `low_snr_mask` must contain $>10$ pixels above $4\\sigma$ (the `high_snr_mask`). To do this, we calculate the sum of `high_snr_mask` within the `low_snr_mask_labels`.\n",
    "2. Regions in `low_snr_mask` must contain $>20$ pixels. Similarly, we calculate the sum of `low_snr_mask` within the `low_snr_mask_labels`. 20 pixels in our example is about twice the number of pixels in the beam.\n",
    "\n",
    "Regions that do not satisfy these criteria are removed from the mask."
   ]
  },
  {
   "cell_type": "code",
   "execution_count": null,
   "id": "dbf60f13-e1ab-4bc9-9cc7-8b290c876210",
   "metadata": {},
   "outputs": [],
   "source": [
    "import scipy.ndimage as nd\n",
    "\n",
    "num_pixels_in_high_snr_mask = nd.sum(high_snr_mask,\n",
    "                                     labels=low_snr_mask_labels,\n",
    "                                     index=range(1, num_labels + 1)) # +1 offset for mask labels\n",
    "\n",
    "# Repeat for the high signal mask.\n",
    "num_pixels_in_low_snr_mask = nd.sum(low_snr_mask,\n",
    "                                    labels=low_snr_mask_labels,\n",
    "                                    index=range(1, num_labels + 1)) # +1 offset for mask labels\n",
    "\n",
    "# To preserve the low_snr_mask, we will create a new signal mask where we will remove \n",
    "# regions that do not pass the criteria.\n",
    "signal_mask = low_snr_mask\n",
    "\n",
    "low_min_pixels = 20\n",
    "high_min_pixels = 10\n",
    "\n",
    "for num, (high_pix_num, low_pix_num) in enumerate(zip(num_pixels_in_high_snr_mask, num_pixels_in_low_snr_mask)):\n",
    "    if high_pix_num >= high_min_pixels and low_pix_num >= low_min_pixels:\n",
    "        # This region passes the criteria. Keep it in the mask.\n",
    "        continue\n",
    "\n",
    "    # Remove regions that do not pass the criteria.\n",
    "    # NOTE: enumerate will start with 0, but the mask labels start at 1\n",
    "    # We apply a +1 offset to `num` to account for this.\n",
    "    signal_mask[low_snr_mask_labels == num + 1] = False\n"
   ]
  },
  {
   "cell_type": "code",
   "execution_count": null,
   "id": "e83d74e1-b754-4feb-be10-84befb65fed4",
   "metadata": {},
   "outputs": [],
   "source": [
    "signal_mask_labels, num_labels = nd.label(signal_mask,\n",
    "                                          structure=structure)\n",
    "\n",
    "print(f\"Final number of regions found: {num_labels}\")"
   ]
  },
  {
   "cell_type": "markdown",
   "id": "9af649d6-89e7-4393-9f13-3fd102799ef8",
   "metadata": {},
   "source": [
    "Nearly every region we initially found was likely spurious, and far fewer regions remain that are more likely to be \"real\" CO emission from our source.\n",
    "\n",
    "Before examining this new signal mask, we can apply an additional step to improve the recovery of faint emission near bright signal. Because we have imposed at $>3\\sigma$ criterion in the low signal mask, some faint emission adjacent to the signal will be excluded and we will underestimate properties like the integrated intensity.\n",
    "\n",
    "One simple way to correct for this is to extend the signal mask immediately around our remaining regions. We can extend the mask by one pixel in each dimension using [binary dilation](https://en.wikipedia.org/wiki/Dilation_%28morphology%29) to superimpose a structure element around every pixel included in the mask. With `dask-image`, we can use `ndmorph.binary_dilation`. \n"
   ]
  },
  {
   "cell_type": "code",
   "execution_count": null,
   "id": "86cb6bc9-6f42-4eaa-8391-009582545cb8",
   "metadata": {},
   "outputs": [],
   "source": [
    "# Use a structure that will increase the mask size by 1 pixel in each direction.\n",
    "# Because we are applying it to the 3D cube, we need its size to be (3, 3, 3):\n",
    "\n",
    "# In the spatial dimension, expand by 1 pixel in each direction.\n",
    "# The structure looks like:\n",
    "# [1, 1, 1]\n",
    "# [1, 1, 1]\n",
    "# [1, 1, 1]\n",
    "structure = np.ones((3, 3), dtype=bool)\n",
    "\n",
    "# In the spectral dimension, only expand the original pixel along the spectral dimension.\n",
    "# The structure looks like:\n",
    "# [0, 0, 0]\n",
    "# [0, 1, 0]\n",
    "# [0, 0, 0]\n",
    "\n",
    "structure_spec = np.zeros((3, 3), dtype=bool)\n",
    "structure_spec[1, 1] = True\n",
    "\n",
    "# Add 1 spectral element on each side of the spatial structure.\n",
    "# np.dstack stacks the arrays along a new 3rd dimension:\n",
    "structure = np.swapaxes(np.dstack([structure_spec, structure, structure_spec]), 0, 2)\n",
    "\n",
    "# With scipy.ndimage:\n",
    "# import scipy.ndimage as nd\n",
    "\n",
    "signal_mask = nd.binary_dilation(signal_mask, structure=structure, iterations=1)\n"
   ]
  },
  {
   "cell_type": "markdown",
   "id": "862a7e37-f258-4f9b-98ac-8e8c182903b2",
   "metadata": {},
   "source": [
    "At this point, we have finished computing the signal mask and now dask can execute the operations, returning a numpy array:\n"
   ]
  },
  {
   "cell_type": "code",
   "execution_count": null,
   "id": "568b2f14-7992-4575-a179-174aa3750082",
   "metadata": {},
   "outputs": [],
   "source": [
    "masked_cube = cube.with_mask(signal_mask)"
   ]
  },
  {
   "cell_type": "code",
   "execution_count": null,
   "id": "be9618ce-d0d3-4d41-9290-7d2d2297ede4",
   "metadata": {},
   "outputs": [],
   "source": [
    "peak_intensity_sigmask = masked_cube.max(axis=0)\n",
    "\n",
    "peak_intensity_sigmask.quicklook()"
   ]
  },
  {
   "cell_type": "markdown",
   "id": "f3e9c2ac-8c93-42fa-b2f6-0e91c1d56415",
   "metadata": {},
   "source": [
    "**Spectral Cube also has the option to easily calculate the moment-0 map**"
   ]
  },
  {
   "cell_type": "code",
   "execution_count": null,
   "id": "f5430edc-d323-4311-860d-9770130f230d",
   "metadata": {},
   "outputs": [],
   "source": [
    "masked_moment0 = masked_cube.moment0()\n",
    "\n",
    "ax = plt.subplot(projection=masked_moment0.wcs)\n",
    "im = ax.imshow(masked_moment0.value, origin='lower', cmap='inferno')\n",
    "cbar = plt.colorbar(im)\n",
    "cbar.set_label('Integrated Intensity (K km/s)')\n",
    "\n",
    "ax.set_ylabel('Declination')\n",
    "ax.set_xlabel('Right Ascension')"
   ]
  },
  {
   "cell_type": "markdown",
   "id": "d9f70132-6a18-493e-adc3-d7220db80466",
   "metadata": {},
   "source": [
    "SpectralCube can also compute other moment maps. See following tutorials for more details:\n",
    "\n",
    "* https://spectral-cube.readthedocs.io/en/latest/moments.html\n",
    "\n",
    "* https://radio-astro-tools.github.io/tutorials/"
   ]
  },
  {
   "cell_type": "code",
   "execution_count": null,
   "id": "c236dfbd-8c51-4fa9-9fb9-b79a4dd94c71",
   "metadata": {},
   "outputs": [],
   "source": []
  }
 ],
 "metadata": {
  "kernelspec": {
   "display_name": "Python 3 (ipykernel)",
   "language": "python",
   "name": "python3"
  },
  "language_info": {
   "codemirror_mode": {
    "name": "ipython",
    "version": 3
   },
   "file_extension": ".py",
   "mimetype": "text/x-python",
   "name": "python",
   "nbconvert_exporter": "python",
   "pygments_lexer": "ipython3",
   "version": "3.11.9"
  }
 },
 "nbformat": 4,
 "nbformat_minor": 5
}
