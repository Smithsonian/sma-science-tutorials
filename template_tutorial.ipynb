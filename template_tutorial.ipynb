{
 "cells": [
  {
   "cell_type": "markdown",
   "id": "ac66b35a-c932-4832-b6d6-cccca4dcb87c",
   "metadata": {},
   "source": [
    "# Identifying and measuring the properties of Giant Molecular Clouds (GMCs)\n",
    "\n",
    "\n",
    "## Authors ##\n",
    "YOUR NAME HERE (and ideally link to your github page, or ORCID)\n",
    "...\n",
    "\n",
    "## Learning Goals ##\n",
    "\n",
    "* Goal 1\n",
    "* Goal 2\n",
    "\n",
    "## Keywords ##\n",
    "\n",
    "radio astronomy, ...\n",
    "\n",
    "## Summary ##\n",
    "\n",
    "Summary here, with description of the data.\n",
    "\n",
    "## Requires ##\n",
    "\n",
    "```\n",
    "pip install [LIST PACKAGES NEEDED]\n",
    "```\n",
    "**NOTE: also list the packages in the `requirements.txt` file so they're installed in the binder environment.**\n",
    "\n",
    "**NOTE: that we should move the pip install commands into the first cell such that these packages can be installed when running the notebook in google co-lab.**"
   ]
  },
  {
   "cell_type": "code",
   "execution_count": null,
   "id": "c24389c8-c8c3-4e20-96e9-44087f837c04",
   "metadata": {},
   "outputs": [],
   "source": [
    "# Installation of packages for google co-lab\n",
    "# ! pip install [ADD PACKAGES HERE]"
   ]
  },
  {
   "cell_type": "code",
   "execution_count": null,
   "id": "96d8c2d3-5111-49cd-b979-895ffb9e7265",
   "metadata": {},
   "outputs": [],
   "source": [
    "# Common imports\n",
    "%matplotlib inline\n",
    "\n",
    "import os\n",
    "from pathlib import Path\n",
    "from time import time\n",
    "import warnings\n",
    "\n",
    "import numpy as np\n",
    "import matplotlib.pyplot as plt\n",
    "plt.style.use('seaborn-colorblind')\n"
   ]
  },
  {
   "cell_type": "code",
   "execution_count": null,
   "id": "5bc26ef4-35cf-40a2-984b-95294b7127ca",
   "metadata": {},
   "outputs": [],
   "source": [
    "## Eventually we want all the products to be accessible online. \n",
    "## Here's an example of downloading a data cube hosted on Zenodo.\n",
    "\n",
    "from astropy.utils.data import download_file\n",
    "\n",
    "# filename = download_file(\n",
    "#     'https://zenodo.org/record/4050489/files/M33_ALMA_ACA_12CO21.cutout.fits',\n",
    "#     cache=True, show_progress=True)"
   ]
  },
  {
   "cell_type": "code",
   "execution_count": null,
   "id": "55393ec9-c9a5-47c1-b278-61ebf9daeb7d",
   "metadata": {},
   "outputs": [],
   "source": []
  }
 ],
 "metadata": {
  "kernelspec": {
   "display_name": "Python 3 (ipykernel)",
   "language": "python",
   "name": "python3"
  },
  "language_info": {
   "codemirror_mode": {
    "name": "ipython",
    "version": 3
   },
   "file_extension": ".py",
   "mimetype": "text/x-python",
   "name": "python",
   "nbconvert_exporter": "python",
   "pygments_lexer": "ipython3",
   "version": "3.8.10"
  }
 },
 "nbformat": 4,
 "nbformat_minor": 5
}
